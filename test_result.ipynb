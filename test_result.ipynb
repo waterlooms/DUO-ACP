{
 "cells": [
  {
   "cell_type": "code",
   "execution_count": 1,
   "metadata": {},
   "outputs": [],
   "source": [
    "%load_ext autoreload\n",
    "%autoreload 1"
   ]
  },
  {
   "cell_type": "code",
   "execution_count": 17,
   "metadata": {},
   "outputs": [],
   "source": [
    "import os\n",
    "import pickle\n",
    "from metric import compute_metric\n",
    "\n",
    "\n",
    "def check_one_set(data_dir, pkl_path, thres):\n",
    "    results = sorted(os.listdir(pkl_path))\n",
    "    num_split = len(results)\n",
    "    dataset = pd.read_csv(data_dir, sep='\\t')\n",
    "    dataset['seqlen'] = dataset['text'].apply(lambda x: len(x))\n",
    "    for i in range(num_split):\n",
    "        pkl_dir = f'{pkl_path}/{results[i]}'\n",
    "        if not os.path.exists(pkl_dir):\n",
    "            print('Not existing', pkl_dir)\n",
    "            continue\n",
    "        with open(pkl_dir, 'rb') as fr:\n",
    "            pkl = pickle.load(fr)\n",
    "            outputs, labels = pkl\n",
    "#            auroc_val, precision, recall = compute_metric(labels[:, 1], outputs[:, 1], thres=thres)\n",
    "        dataset[i] = outputs[:, 1]\n",
    "\n",
    "    column_names = range(num_split)\n",
    "    averages = dataset[column_names].mean(axis=1)\n",
    "#    print('Mean')\n",
    "    auroc_val, precision, recall = compute_metric(labels[:, 1], averages, thres=thres)\n",
    "    \n",
    "    d_list = [dataset[(i*20 < dataset['seqlen']) & (dataset['seqlen'] <= (i + 1) * 20)] for i in range(3)]\n",
    "\n",
    "    for idx, d in enumerate(d_list):\n",
    "        print(f'Sequence Length from {idx * 20} to {(idx + 1) * 20}')\n",
    "        if (len(d) == 0):\n",
    "            continue\n",
    "        for i in range(num_split):\n",
    "            labels, outputs = d['label'].tolist(), d[i].tolist()\n",
    "            auroc_val, precision, recall = compute_metric(labels, outputs)\n",
    "        averages = d[column_names].mean(axis=1)\n",
    "#        print('Mean')\n",
    "        auroc_val, precision, recall = compute_metric(labels, averages)\n"
   ]
  },
  {
   "cell_type": "code",
   "execution_count": 20,
   "metadata": {},
   "outputs": [
    {
     "name": "stdout",
     "output_type": "stream",
     "text": [
      "\n",
      "2023-09-24_21-17-06\n",
      "model1\n",
      "0.7951\t0.7571\t0.7213\t0.5967\t0.8619\n",
      "Sequence Length from 0 to 20\n",
      "0.8305\t0.8788\t0.8333\t0.6549\t0.8786\n",
      "0.8305\t0.8571\t0.7917\t0.6488\t0.8631\n",
      "0.7966\t0.8286\t0.75\t0.5786\t0.856\n",
      "0.8305\t0.8571\t0.7917\t0.6488\t0.8702\n",
      "Sequence Length from 20 to 40\n",
      "0.8367\t0.7419\t0.6923\t0.7167\t0.8846\n",
      "0.8571\t0.7667\t0.7308\t0.7485\t0.9013\n",
      "0.8367\t0.7419\t0.6923\t0.7167\t0.888\n",
      "0.8571\t0.7667\t0.7308\t0.7485\t0.8896\n",
      "Sequence Length from 40 to 60\n",
      "0.5\t0.0\t0.5455\t-0.2548\t0.4545\n",
      "0.5833\t0.0\t0.6364\t-0.2132\t0.3636\n",
      "0.4167\t0.0\t0.4545\t-0.3015\t0.2727\n",
      "0.5\t0.0\t0.5455\t-0.2548\t0.3636\n",
      "model2\n",
      "0.7951\t0.7812\t0.7705\t0.5909\t0.8788\n",
      "Sequence Length from 0 to 20\n",
      "0.7627\t0.8182\t0.75\t0.5159\t0.8643\n",
      "0.7797\t0.775\t0.625\t0.5369\t0.8976\n",
      "0.7797\t0.7895\t0.6667\t0.5374\t0.8476\n",
      "0.7797\t0.8056\t0.7083\t0.5408\t0.8762\n",
      "Sequence Length from 20 to 40\n",
      "0.7959\t0.8095\t0.8462\t0.5902\t0.8763\n",
      "0.8163\t0.7917\t0.8077\t0.6327\t0.898\n",
      "0.8367\t0.8\t0.8077\t0.6761\t0.9047\n",
      "0.8163\t0.7917\t0.8077\t0.6327\t0.9064\n",
      "Sequence Length from 40 to 60\n",
      "0.75\t0.0\t0.8182\t-0.1348\t0.1818\n",
      "0.75\t0.0\t0.8182\t-0.1348\t0.0\n",
      "0.6667\t0.0\t0.7273\t-0.1741\t0.0909\n",
      "0.75\t0.0\t0.8182\t-0.1348\t0.0\n",
      "model3\n",
      "0.7869\t0.7612\t0.7377\t0.5766\t0.889\n",
      "Sequence Length from 0 to 20\n",
      "0.7627\t0.8182\t0.75\t0.5159\t0.8667\n",
      "0.8136\t0.8158\t0.7083\t0.6095\t0.8655\n",
      "0.8305\t0.8378\t0.75\t0.6458\t0.8655\n",
      "0.7627\t0.7838\t0.6667\t0.5031\t0.8774\n",
      "Sequence Length from 20 to 40\n",
      "0.8367\t0.8261\t0.8462\t0.6722\t0.8913\n",
      "0.8163\t0.7333\t0.6923\t0.6646\t0.9047\n",
      "0.8571\t0.8333\t0.8462\t0.7145\t0.9164\n",
      "0.8367\t0.8\t0.8077\t0.6761\t0.9164\n",
      "Sequence Length from 40 to 60\n",
      "0.75\t0.0\t0.8182\t-0.1348\t0.2727\n",
      "0.5833\t0.0\t0.6364\t-0.2132\t0.2727\n",
      "0.5833\t0.0\t0.6364\t-0.2132\t0.1818\n",
      "0.6667\t0.0\t0.7273\t-0.1741\t0.2727\n",
      "model4\n",
      "0.7869\t0.7536\t0.7213\t0.5788\t0.889\n",
      "Sequence Length from 0 to 20\n",
      "0.7627\t0.8182\t0.75\t0.5159\t0.8702\n",
      "0.8475\t0.8421\t0.75\t0.6815\t0.8667\n",
      "0.7797\t0.7895\t0.6667\t0.5374\t0.8702\n",
      "0.7797\t0.7895\t0.6667\t0.5374\t0.875\n",
      "Sequence Length from 20 to 40\n",
      "0.7959\t0.7826\t0.8077\t0.5903\t0.898\n",
      "0.7959\t0.7241\t0.6923\t0.6147\t0.9114\n",
      "0.8367\t0.8\t0.8077\t0.6761\t0.9231\n",
      "0.8163\t0.7692\t0.7692\t0.6388\t0.9197\n",
      "Sequence Length from 40 to 60\n",
      "0.75\t0.0\t0.8182\t-0.1348\t0.2727\n",
      "0.75\t0.0\t0.8182\t-0.1348\t0.2727\n",
      "0.5833\t0.0\t0.6364\t-0.2132\t0.2727\n",
      "0.6667\t0.0\t0.7273\t-0.1741\t0.2727\n"
     ]
    }
   ],
   "source": [
    "#查看单组结果\n",
    "runtime_list = sorted(os.listdir('result'))[-1:]\n",
    "for runtime in runtime_list[::-1]:\n",
    "    print('\\n' + runtime)\n",
    "    for idx in range(1,5):\n",
    "        data_dir = f'../ACP_datasets/ACP-Mixed-80-test.tsv'\n",
    "        name = f'model{idx}'\n",
    "        print(name)\n",
    "        pkl_path = f'result/{runtime}/{name}'\n",
    "        if os.path.exists(pkl_path):\n",
    "            check_one_set(data_dir, pkl_path, thres=0.5)\n",
    "        else:\n",
    "            print(f\"{pkl_path} not exists\")"
   ]
  },
  {
   "cell_type": "code",
   "execution_count": 9,
   "metadata": {},
   "outputs": [
    {
     "name": "stdout",
     "output_type": "stream",
     "text": [
      "(43, 7)\n",
      "0.822\t0.744\t0.7\t0.55\t0.792\t0.503\n",
      "0.963\t0.884\t0.84\t0.81\t0.894\t0.774\n",
      "0.918\t0.814\t0.81\t0.818\t0.81\t0.628\n",
      "0.857\t0.814\t0.739\t0.75\t0.81\t0.642\n",
      "0.885\t0.86\t0.789\t0.846\t0.833\t0.717\n",
      "0.921\t0.837\t0.765\t0.852\t0.788\t0.657\n",
      "------Macro------\n",
      "Macro accuracy 0.8255813953488372\n",
      "Macro precision 0.7291960389154781\n",
      "Macro recall 0.8183201410214755\n",
      "Macro f1-score 0.7696954361804966\n",
      "------Micro------\n",
      "Micro accuracy 0.8039867109634552\n",
      "Micro precision 0.7432432432432432\n",
      "Micro recall 0.8396946564885496\n",
      "Micro f1-score 0.7885304659498208\n",
      "------Hamming loss------\n",
      "Hamming loss 0.19601328903654486\n"
     ]
    },
    {
     "data": {
      "text/plain": [
       "0.8255813953488372"
      ]
     },
     "execution_count": 9,
     "metadata": {},
     "output_type": "execute_result"
    }
   ],
   "source": [
    "from metric import compute_metric_labelwise, compute_metric_score\n",
    "import numpy as np\n",
    "import pickle\n",
    "folder = 'result/2023-09-25_10-34-34'\n",
    "labels, outputs = [], []\n",
    "for k in range(1, 3):\n",
    "    result_file = f'{folder}/model3/{k}.pkl'\n",
    "    res = pickle.load(open(result_file, 'rb'))\n",
    "    output, label = res\n",
    "    labels.append(label)\n",
    "    outputs.append(output)\n",
    "labels = np.vstack(labels)\n",
    "outputs = np.vstack(outputs)\n",
    "print(labels.shape)\n",
    "#outputs\n",
    "compute_metric_labelwise(labels, outputs)\n",
    "compute_metric_score(labels, outputs)"
   ]
  },
  {
   "cell_type": "code",
   "execution_count": 5,
   "metadata": {},
   "outputs": [
    {
     "data": {
      "text/plain": [
       "((759, 7), (759, 7))"
      ]
     },
     "execution_count": 5,
     "metadata": {},
     "output_type": "execute_result"
    }
   ],
   "source": [
    "labels.shape, outputs.shape"
   ]
  }
 ],
 "metadata": {
  "kernelspec": {
   "display_name": "ACP",
   "language": "python",
   "name": "python3"
  },
  "language_info": {
   "codemirror_mode": {
    "name": "ipython",
    "version": 3
   },
   "file_extension": ".py",
   "mimetype": "text/x-python",
   "name": "python",
   "nbconvert_exporter": "python",
   "pygments_lexer": "ipython3",
   "version": "3.9.17"
  },
  "orig_nbformat": 4
 },
 "nbformat": 4,
 "nbformat_minor": 2
}
