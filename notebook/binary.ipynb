{
 "cells": [
  {
   "cell_type": "code",
   "execution_count": 3,
   "metadata": {},
   "outputs": [
    {
     "name": "stdout",
     "output_type": "stream",
     "text": [
      "The autoreload extension is already loaded. To reload it, use:\n",
      "  %reload_ext autoreload\n"
     ]
    }
   ],
   "source": [
    "%load_ext autoreload\n",
    "%autoreload 2\n",
    "\n",
    "import os\n",
    "import sys\n",
    "sys.path.append('..')"
   ]
  },
  {
   "cell_type": "code",
   "execution_count": 25,
   "metadata": {},
   "outputs": [
    {
     "name": "stdout",
     "output_type": "stream",
     "text": [
      "model4\n",
      "0.8033\t0.8136\t0.8197\t0.6069\t0.8753\n",
      "0.7951\t0.8214\t0.8361\t0.5922\t0.8815\n",
      "0.7787\t0.7833\t0.7869\t0.5575\t0.8632\n",
      "0.8197\t0.8545\t0.8689\t0.6425\t0.903\n",
      "0.8197\t0.8679\t0.8852\t0.6449\t0.8874\n",
      "Mean\n",
      "0.8279\t0.8846\t0.9016\t0.663\t0.8952\n",
      "Sequence Length from 0 to 20\n",
      "0.8475\t0.8611\t0.7917\t0.6823\t0.8631\n",
      "0.8136\t0.8333\t0.75\t0.6115\t0.8619\n",
      "0.7627\t0.7692\t0.625\t0.5003\t0.8607\n",
      "0.8136\t0.8158\t0.7083\t0.6095\t0.8952\n",
      "0.7797\t0.775\t0.625\t0.5369\t0.8893\n",
      "Mean\n",
      "0.8305\t0.8205\t0.7083\t0.6461\t0.8857\n",
      "Sequence Length from 20 to 40\n",
      "0.8163\t0.75\t0.7308\t0.6493\t0.9214\n",
      "0.7959\t0.7407\t0.7308\t0.6024\t0.9281\n",
      "0.7959\t0.7407\t0.7308\t0.6024\t0.8729\n",
      "0.8367\t0.8\t0.8077\t0.6761\t0.9431\n",
      "0.8163\t0.7692\t0.7692\t0.6388\t0.9264\n",
      "Mean\n",
      "0.7755\t0.7143\t0.6923\t0.5666\t0.9398\n",
      "Sequence Length from 40 to 60\n",
      "0.8333\t0.0\t0.9091\t-0.0909\t0.4545\n",
      "0.5833\t0.0\t0.6364\t-0.2132\t0.2727\n",
      "0.6667\t0.0\t0.7273\t-0.1741\t0.3636\n",
      "0.5833\t0.0\t0.6364\t-0.2132\t0.1818\n",
      "0.8333\t0.0\t0.9091\t-0.0909\t0.2727\n",
      "Mean\n",
      "0.75\t0.0\t0.8182\t-0.1348\t0.2727\n"
     ]
    },
    {
     "name": "stderr",
     "output_type": "stream",
     "text": [
      "/data/s853wang/ACP/DUO-ACP/notebook/../metric.py:29: RuntimeWarning: invalid value encountered in scalar divide\n",
      "  f1score = 2 * (precision * recall) / (precision + recall)\n",
      "/data/s853wang/ACP/DUO-ACP/notebook/../metric.py:29: RuntimeWarning: invalid value encountered in scalar divide\n",
      "  f1score = 2 * (precision * recall) / (precision + recall)\n",
      "/data/s853wang/ACP/DUO-ACP/notebook/../metric.py:29: RuntimeWarning: invalid value encountered in scalar divide\n",
      "  f1score = 2 * (precision * recall) / (precision + recall)\n",
      "/data/s853wang/ACP/DUO-ACP/notebook/../metric.py:29: RuntimeWarning: invalid value encountered in scalar divide\n",
      "  f1score = 2 * (precision * recall) / (precision + recall)\n",
      "/data/s853wang/ACP/DUO-ACP/notebook/../metric.py:29: RuntimeWarning: invalid value encountered in scalar divide\n",
      "  f1score = 2 * (precision * recall) / (precision + recall)\n",
      "/data/s853wang/ACP/DUO-ACP/notebook/../metric.py:29: RuntimeWarning: invalid value encountered in scalar divide\n",
      "  f1score = 2 * (precision * recall) / (precision + recall)\n"
     ]
    },
    {
     "data": {
      "text/plain": [
       "<matplotlib.legend.Legend at 0x7fd45f2d2790>"
      ]
     },
     "execution_count": 25,
     "metadata": {},
     "output_type": "execute_result"
    },
    {
     "data": {
      "image/png": "[encoded data removed]",
      "text/plain": [
       "<Figure size 640x480 with 1 Axes>"
      ]
     },
     "metadata": {},
     "output_type": "display_data"
    }
   ],
   "source": [
    "from metric import check_one_set\n",
    "import matplotlib.pyplot as plt\n",
    "\n",
    "runtime = '2023-09-25_23-03-03'\n",
    "plt.figure()\n",
    "for idx in [4]:\n",
    "    data_dir = f'../datasets/ACP-Mixed-80/ACP-Mixed-80-test.tsv'\n",
    "    name = f'model{idx}'\n",
    "    print(name)\n",
    "    pkl_path = f'../result/binary/{runtime}/{name}'\n",
    "    if os.path.exists(pkl_path) == False:\n",
    "        print(f\"{pkl_path} not exists\")\n",
    "        continue\n",
    "    auroc_val, fpr, tpr = check_one_set(data_dir, pkl_path, show_iter=True, show_length=True, thres=0.8)\n",
    "    plt.plot(fpr, tpr, label = f'{name}:AUC={round(auroc_val, 3)}')\n",
    "plt.legend()\n"
   ]
  }
 ],
 "metadata": {
  "kernelspec": {
   "display_name": "ACP",
   "language": "python",
   "name": "python3"
  },
  "language_info": {
   "codemirror_mode": {
    "name": "ipython",
    "version": 3
   },
   "file_extension": ".py",
   "mimetype": "text/x-python",
   "name": "python",
   "nbconvert_exporter": "python",
   "pygments_lexer": "ipython3",
   "version": "3.9.17"
  },
  "orig_nbformat": 4
 },
 "nbformat": 4,
 "nbformat_minor": 2
}
